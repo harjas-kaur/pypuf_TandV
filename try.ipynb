{
 "cells": [
  {
   "cell_type": "code",
   "execution_count": 15,
   "metadata": {},
   "outputs": [
    {
     "name": "stdout",
     "output_type": "stream",
     "text": [
      "Retrieving notices: ...working... done\n",
      "Channels:\n",
      " - defaults\n",
      "Platform: win-64\n",
      "Collecting package metadata (repodata.json): ...working... failed\n",
      "\n",
      "Note: you may need to restart the kernel to use updated packages.\n"
     ]
    },
    {
     "name": "stderr",
     "output_type": "stream",
     "text": [
      "Retrying (Retry(total=2, connect=None, read=None, redirect=None, status=None)) after connection broken by 'NameResolutionError(\"<urllib3.connection.HTTPSConnection object at 0x00000248361049D0>: Failed to resolve 'repo.anaconda.com' ([Errno 11001] getaddrinfo failed)\")': /pkgs/main/notices.json\n",
      "\n",
      "Retrying (Retry(total=2, connect=None, read=None, redirect=None, status=None)) after connection broken by 'NameResolutionError(\"<urllib3.connection.HTTPSConnection object at 0x0000024835D86890>: Failed to resolve 'repo.anaconda.com' ([Errno 11001] getaddrinfo failed)\")': /pkgs/r/notices.json\n",
      "\n",
      "Retrying (Retry(total=2, connect=None, read=None, redirect=None, status=None)) after connection broken by 'NameResolutionError(\"<urllib3.connection.HTTPSConnection object at 0x0000024836104210>: Failed to resolve 'repo.anaconda.com' ([Errno 11001] getaddrinfo failed)\")': /pkgs/msys2/notices.json\n",
      "\n",
      "Retrying (Retry(total=1, connect=None, read=None, redirect=None, status=None)) after connection broken by 'NameResolutionError(\"<urllib3.connection.HTTPSConnection object at 0x0000024836104ED0>: Failed to resolve 'repo.anaconda.com' ([Errno 11001] getaddrinfo failed)\")': /pkgs/main/notices.json\n",
      "\n",
      "Retrying (Retry(total=1, connect=None, read=None, redirect=None, status=None)) after connection broken by 'NameResolutionError(\"<urllib3.connection.HTTPSConnection object at 0x00000248361055D0>: Failed to resolve 'repo.anaconda.com' ([Errno 11001] getaddrinfo failed)\")': /pkgs/r/notices.json\n",
      "\n",
      "Retrying (Retry(total=1, connect=None, read=None, redirect=None, status=None)) after connection broken by 'NameResolutionError(\"<urllib3.connection.HTTPSConnection object at 0x0000024836105F90>: Failed to resolve 'repo.anaconda.com' ([Errno 11001] getaddrinfo failed)\")': /pkgs/msys2/notices.json\n",
      "\n",
      "Retrying (Retry(total=0, connect=None, read=None, redirect=None, status=None)) after connection broken by 'NameResolutionError(\"<urllib3.connection.HTTPSConnection object at 0x0000024836106D90>: Failed to resolve 'repo.anaconda.com' ([Errno 11001] getaddrinfo failed)\")': /pkgs/r/notices.json\n",
      "\n",
      "Retrying (Retry(total=0, connect=None, read=None, redirect=None, status=None)) after connection broken by 'NameResolutionError(\"<urllib3.connection.HTTPSConnection object at 0x0000024836106950>: Failed to resolve 'repo.anaconda.com' ([Errno 11001] getaddrinfo failed)\")': /pkgs/main/notices.json\n",
      "\n",
      "ERROR conda.notices.fetch:get_channel_notice_response(73): Request error <HTTPSConnectionPool(host='repo.anaconda.com', port=443): Max retries exceeded with url: /pkgs/r/notices.json (Caused by NameResolutionError(\"<urllib3.connection.HTTPSConnection object at 0x0000024836107ED0>: Failed to resolve 'repo.anaconda.com' ([Errno 11001] getaddrinfo failed)\"))> for channel: defaults url: https://repo.anaconda.com/pkgs/r/notices.json\n",
      "Retrying (Retry(total=0, connect=None, read=None, redirect=None, status=None)) after connection broken by 'NameResolutionError(\"<urllib3.connection.HTTPSConnection object at 0x0000024836107750>: Failed to resolve 'repo.anaconda.com' ([Errno 11001] getaddrinfo failed)\")': /pkgs/msys2/notices.json\n",
      "\n",
      "ERROR conda.notices.fetch:get_channel_notice_response(73): Request error <HTTPSConnectionPool(host='repo.anaconda.com', port=443): Max retries exceeded with url: /pkgs/main/notices.json (Caused by NameResolutionError(\"<urllib3.connection.HTTPSConnection object at 0x0000024836114150>: Failed to resolve 'repo.anaconda.com' ([Errno 11001] getaddrinfo failed)\"))> for channel: defaults url: https://repo.anaconda.com/pkgs/main/notices.json\n",
      "ERROR conda.notices.fetch:get_channel_notice_response(73): Request error <HTTPSConnectionPool(host='repo.anaconda.com', port=443): Max retries exceeded with url: /pkgs/msys2/notices.json (Caused by NameResolutionError(\"<urllib3.connection.HTTPSConnection object at 0x0000024835D86F10>: Failed to resolve 'repo.anaconda.com' ([Errno 11001] getaddrinfo failed)\"))> for channel: defaults url: https://repo.anaconda.com/pkgs/msys2/notices.json\n",
      "Retrying (Retry(total=2, connect=None, read=None, redirect=None, status=None)) after connection broken by 'NameResolutionError(\"<urllib3.connection.HTTPSConnection object at 0x000002483B9D2350>: Failed to resolve 'repo.anaconda.com' ([Errno 11001] getaddrinfo failed)\")': /pkgs/main/win-64/repodata.json.zst\n",
      "\n",
      "Retrying (Retry(total=2, connect=None, read=None, redirect=None, status=None)) after connection broken by 'NameResolutionError(\"<urllib3.connection.HTTPSConnection object at 0x000002483B9B9A90>: Failed to resolve 'repo.anaconda.com' ([Errno 11001] getaddrinfo failed)\")': /pkgs/r/noarch/repodata.json.zst\n",
      "\n",
      "Retrying (Retry(total=2, connect=None, read=None, redirect=None, status=None)) after connection broken by 'NameResolutionError(\"<urllib3.connection.HTTPSConnection object at 0x000002483B98F710>: Failed to resolve 'repo.anaconda.com' ([Errno 11001] getaddrinfo failed)\")': /pkgs/msys2/noarch/repodata.json.zst\n",
      "\n",
      "Retrying (Retry(total=2, connect=None, read=None, redirect=None, status=None)) after connection broken by 'NameResolutionError(\"<urllib3.connection.HTTPSConnection object at 0x000002483B98E6D0>: Failed to resolve 'repo.anaconda.com' ([Errno 11001] getaddrinfo failed)\")': /pkgs/r/win-64/repodata.json.zst\n",
      "\n",
      "Retrying (Retry(total=2, connect=None, read=None, redirect=None, status=None)) after connection broken by 'NameResolutionError(\"<urllib3.connection.HTTPSConnection object at 0x000002483B977550>: Failed to resolve 'repo.anaconda.com' ([Errno 11001] getaddrinfo failed)\")': /pkgs/main/noarch/repodata.json.zst\n",
      "\n",
      "Retrying (Retry(total=2, connect=None, read=None, redirect=None, status=None)) after connection broken by 'NameResolutionError(\"<urllib3.connection.HTTPSConnection object at 0x000002483B975A50>: Failed to resolve 'repo.anaconda.com' ([Errno 11001] getaddrinfo failed)\")': /pkgs/msys2/win-64/repodata.json.zst\n",
      "\n",
      "Retrying (Retry(total=1, connect=None, read=None, redirect=None, status=None)) after connection broken by 'NameResolutionError(\"<urllib3.connection.HTTPSConnection object at 0x000002483B9B8610>: Failed to resolve 'repo.anaconda.com' ([Errno 11001] getaddrinfo failed)\")': /pkgs/main/win-64/repodata.json.zst\n",
      "\n",
      "Retrying (Retry(total=1, connect=None, read=None, redirect=None, status=None)) after connection broken by 'NameResolutionError(\"<urllib3.connection.HTTPSConnection object at 0x000002483B98ED10>: Failed to resolve 'repo.anaconda.com' ([Errno 11001] getaddrinfo failed)\")': /pkgs/r/noarch/repodata.json.zst\n",
      "\n",
      "Retrying (Retry(total=1, connect=None, read=None, redirect=None, status=None)) after connection broken by 'NameResolutionError(\"<urllib3.connection.HTTPSConnection object at 0x000002483B98DCD0>: Failed to resolve 'repo.anaconda.com' ([Errno 11001] getaddrinfo failed)\")': /pkgs/msys2/noarch/repodata.json.zst\n",
      "\n",
      "Retrying (Retry(total=1, connect=None, read=None, redirect=None, status=None)) after connection broken by 'NameResolutionError(\"<urllib3.connection.HTTPSConnection object at 0x000002483B98D090>: Failed to resolve 'repo.anaconda.com' ([Errno 11001] getaddrinfo failed)\")': /pkgs/r/win-64/repodata.json.zst\n",
      "\n",
      "Retrying (Retry(total=1, connect=None, read=None, redirect=None, status=None)) after connection broken by 'NameResolutionError(\"<urllib3.connection.HTTPSConnection object at 0x000002483B977E90>: Failed to resolve 'repo.anaconda.com' ([Errno 11001] getaddrinfo failed)\")': /pkgs/main/noarch/repodata.json.zst\n",
      "\n",
      "Retrying (Retry(total=1, connect=None, read=None, redirect=None, status=None)) after connection broken by 'NameResolutionError(\"<urllib3.connection.HTTPSConnection object at 0x000002483B919290>: Failed to resolve 'repo.anaconda.com' ([Errno 11001] getaddrinfo failed)\")': /pkgs/msys2/win-64/repodata.json.zst\n",
      "\n",
      "Retrying (Retry(total=0, connect=None, read=None, redirect=None, status=None)) after connection broken by 'NameResolutionError(\"<urllib3.connection.HTTPSConnection object at 0x000002483B9199D0>: Failed to resolve 'repo.anaconda.com' ([Errno 11001] getaddrinfo failed)\")': /pkgs/main/win-64/repodata.json.zst\n",
      "\n",
      "Retrying (Retry(total=0, connect=None, read=None, redirect=None, status=None)) after connection broken by 'NameResolutionError(\"<urllib3.connection.HTTPSConnection object at 0x000002483B91A110>: Failed to resolve 'repo.anaconda.com' ([Errno 11001] getaddrinfo failed)\")': /pkgs/r/noarch/repodata.json.zst\n",
      "\n",
      "Retrying (Retry(total=0, connect=None, read=None, redirect=None, status=None)) after connection broken by 'NameResolutionError(\"<urllib3.connection.HTTPSConnection object at 0x000002483B91A850>: Failed to resolve 'repo.anaconda.com' ([Errno 11001] getaddrinfo failed)\")': /pkgs/msys2/noarch/repodata.json.zst\n",
      "\n",
      "Retrying (Retry(total=0, connect=None, read=None, redirect=None, status=None)) after connection broken by 'NameResolutionError(\"<urllib3.connection.HTTPSConnection object at 0x000002483B91ACD0>: Failed to resolve 'repo.anaconda.com' ([Errno 11001] getaddrinfo failed)\")': /pkgs/r/win-64/repodata.json.zst\n",
      "\n",
      "Retrying (Retry(total=0, connect=None, read=None, redirect=None, status=None)) after connection broken by 'NameResolutionError(\"<urllib3.connection.HTTPSConnection object at 0x000002483B91B6D0>: Failed to resolve 'repo.anaconda.com' ([Errno 11001] getaddrinfo failed)\")': /pkgs/main/noarch/repodata.json.zst\n",
      "\n",
      "Retrying (Retry(total=0, connect=None, read=None, redirect=None, status=None)) after connection broken by 'NameResolutionError(\"<urllib3.connection.HTTPSConnection object at 0x000002483B91BE10>: Failed to resolve 'repo.anaconda.com' ([Errno 11001] getaddrinfo failed)\")': /pkgs/msys2/win-64/repodata.json.zst\n",
      "\n",
      "\n",
      "CondaHTTPError: HTTP 000 CONNECTION FAILED for url <https://repo.anaconda.com/pkgs/main/win-64/repodata.json>\n",
      "Elapsed: -\n",
      "\n",
      "An HTTP error occurred when trying to retrieve this URL.\n",
      "HTTP errors are often intermittent, and a simple retry will get you on your way.\n",
      "\n",
      "If your current network has https://repo.anaconda.com blocked, please file\n",
      "a support request with your network engineering team.\n",
      "\n",
      "'https//repo.anaconda.com/pkgs/main/win-64'\n",
      "\n",
      "\n"
     ]
    }
   ],
   "source": [
    "conda install tensorflow"
   ]
  },
  {
   "cell_type": "code",
   "execution_count": 25,
   "metadata": {},
   "outputs": [
    {
     "ename": "ModuleNotFoundError",
     "evalue": "No module named 'tensorflow'",
     "output_type": "error",
     "traceback": [
      "\u001b[1;31m---------------------------------------------------------------------------\u001b[0m",
      "\u001b[1;31mModuleNotFoundError\u001b[0m                       Traceback (most recent call last)",
      "Cell \u001b[1;32mIn[25], line 1\u001b[0m\n\u001b[1;32m----> 1\u001b[0m \u001b[38;5;28;01mimport\u001b[39;00m \u001b[38;5;21;01mtensorflow\u001b[39;00m\n\u001b[0;32m      2\u001b[0m \u001b[38;5;28;01mimport\u001b[39;00m \u001b[38;5;21;01mpypuf\u001b[39;00m \n\u001b[0;32m      3\u001b[0m \u001b[38;5;28;01mimport\u001b[39;00m \u001b[38;5;21;01mpypuf\u001b[39;00m\u001b[38;5;21;01m.\u001b[39;00m\u001b[38;5;21;01msimulation\u001b[39;00m\u001b[38;5;241m,\u001b[39m \u001b[38;5;21;01mpypuf\u001b[39;00m\u001b[38;5;21;01m.\u001b[39;00m\u001b[38;5;21;01mio\u001b[39;00m\n",
      "\u001b[1;31mModuleNotFoundError\u001b[0m: No module named 'tensorflow'"
     ]
    }
   ],
   "source": [
    "import tensorflow\n",
    "import pypuf \n",
    "import pypuf.simulation, pypuf.io\n",
    "import pypuf.attack\n",
    "import pypuf.metrics\n",
    "import numpy as np  # Import numpy\n",
    "from pypuf.simulation import ArbiterPUF\n",
    "from pypuf.io import random_inputs\n",
    "\n",
    "# Create the PUF instance\n",
    "puf_1 = ArbiterPUF(n=64, seed=1)\n",
    "\n",
    "# Generate random inputs and evaluate the PUF\n",
    "response = puf_1.eval(random_inputs(n=64, N=3, seed=2))\n",
    "\n",
    "# Correct the use of array\n",
    "response_array = np.array([1, 1, -1], dtype=np.int8)  # Use numpy.array()\n",
    "\n",
    "print(response)\n",
    "print(response_array)"
   ]
  },
  {
   "cell_type": "code",
   "execution_count": null,
   "metadata": {},
   "outputs": [],
   "source": [
    "puf = pypuf.simulation.XORArbiterPUF(n=64, k=4, seed=1)\n",
    "crps = pypuf.io.ChallengeResponseSet.from_simulation(puf, N=50000, seed=2)\n",
    "\n",
    "attack = pypuf.attack.LRAttack2021(crps, seed=3, k=4, bs=1000, lr=.001, epochs=100)\n",
    "attack.fit()  \n",
    "model = attack.model\n",
    "print(\"____________\")\n",
    "print(pypuf.metrics.similarity(puf, model, seed=4))"
   ]
  }
 ],
 "metadata": {
  "kernelspec": {
   "display_name": "base",
   "language": "python",
   "name": "python3"
  },
  "language_info": {
   "codemirror_mode": {
    "name": "ipython",
    "version": 3
   },
   "file_extension": ".py",
   "mimetype": "text/x-python",
   "name": "python",
   "nbconvert_exporter": "python",
   "pygments_lexer": "ipython3",
   "version": "3.11.7"
  }
 },
 "nbformat": 4,
 "nbformat_minor": 2
}
